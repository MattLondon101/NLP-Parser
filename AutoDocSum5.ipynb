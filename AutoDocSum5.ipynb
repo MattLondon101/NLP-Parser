{
 "cells": [
  {
   "cell_type": "code",
   "execution_count": null,
   "metadata": {},
   "outputs": [],
   "source": [
    "import subprocess\n",
    "import matplotlib\n",
    "import mglearn\n",
    "import numpy\n",
    "import pandas\n",
    "import pdfminer\n",
    "import sklearn\n",
    "import sys\n",
    "from io import StringIO\n",
    "#Python LDA Visualization Libraries\n",
    "import pyLDAvis\n",
    "import pyLDAvis.sklearn\n",
    "import PyPDF2\n",
    "# pdfminer\n",
    "from pdfminer.converter import PDFPageAggregator\n",
    "from pdfminer.converter import TextConverter\n",
    "from pdfminer.layout import LAParams\n",
    "from pdfminer.layout import LTTextBoxHorizontal\n",
    "from pdfminer.pdfdevice import PDFDevice\n",
    "from pdfminer.pdfdocument import PDFDocument\n",
    "from pdfminer.pdfpage import PDFPage\n",
    "from pdfminer.pdfparser import PDFParser\n",
    "from pdfminer.pdfinterp import PDFPageInterpreter\n",
    "from pdfminer.pdfinterp import PDFResourceManager\n",
    "from pdfminer.pdfpage import PDFTextExtractionNotAllowed\n",
    "from pdfminer.pdftypes import resolve1\n",
    "#Relevant Analysis Librariess\n",
    "import re\n",
    "import numpy as np\n",
    "import pandas as pd\n",
    "import mglearn as mg\n",
    "#Relevant Modeling Libraries\n",
    "from sklearn.feature_extraction.text import CountVectorizer, TfidfVectorizer\n",
    "from sklearn.decomposition import LatentDirichletAllocation\n",
    "from sklearn.feature_extraction.stop_words import ENGLISH_STOP_WORDS\n",
    "%pylab\n",
    "%matplotlib inline"
   ]
  },
  {
   "cell_type": "code",
   "execution_count": 2,
   "metadata": {},
   "outputs": [],
   "source": [
    "#Creating a Function to Read the PDF Document and convert into Text\n",
    "def convert_pdf_to_text(path):\n",
    "    rsrcmgr = PDFResourceManager()\n",
    "    retstr = StringIO()\n",
    "    laparams = LAParams()\n",
    "    device = TextConverter(rsrcmgr, retstr, laparams=laparams)\n",
    "    fp = open(path, 'rb')\n",
    "    interpreter = PDFPageInterpreter(rsrcmgr, device)\n",
    "    password = \"\"\n",
    "    maxpages = 0\n",
    "    caching = True\n",
    "    pagenos = set()\n",
    "    \n",
    "    for page in PDFPage.get_pages(fp, pagenos, maxpages=maxpages, password=password, caching=caching, check_extractable=True):\n",
    "        interpreter.process_page(page)\n",
    "        \n",
    "    text = retstr.getvalue()\n",
    "    \n",
    "    fp.close()\n",
    "    device.close()\n",
    "    retstr.close()\n",
    "    \n",
    "    return text\n",
    "#Reading the PDF Document and saving as lone\n",
    "lone=convert_pdf_to_text('C:/Users/matth/Documents/Jobs/Travelers/NLP/Automated_Doc_Summarization_NLP/Claim_Req_Travelers_McDonald_5_14.pdf')\n"
   ]
  },
  {
   "cell_type": "code",
   "execution_count": 3,
   "metadata": {},
   "outputs": [],
   "source": [
    "# Gets inputs rb\n",
    "path='C:/Users/matth/Documents/Jobs/Travelers/NLP/Automated_Doc_Summarization_NLP/Claim_Req_Travelers_McDonald_5_14.pdf'\n",
    "fp = open(path, 'rb')\n",
    "parser = PDFParser(fp)\n",
    "doc = PDFDocument(parser)\n",
    "fields = resolve1(doc.catalog['AcroForm'])['Fields']\n",
    "\n",
    "inps=[]\n",
    "for i in fields:\n",
    "    field = resolve1(i)\n",
    "    name, value = field.get('T'), field.get('V')\n",
    "    inps.append('{0}: {1}'.format(name, value))\n",
    "    \n",
    "inf=[]\n",
    "ini=[]\n",
    "for i in fields:\n",
    "    field=resolve1(i)\n",
    "    name,value=field.get('T'),field.get('V')\n",
    "    inf.append(name)\n",
    "    ini.append(value)"
   ]
  },
  {
   "cell_type": "code",
   "execution_count": null,
   "metadata": {},
   "outputs": [],
   "source": [
    "# Topic Modeling\n",
    "# Fitting Count Vectorizer on the document with Stop Words\n",
    "vect=CountVectorizer(ngram_range=(1,1),stop_words='english')\n",
    "dtm = vect.fit_transform(inps)\n",
    "\n",
    "#Converting the Document Term Matrix from Count Vectorizer into a Pandas Dataframe\n",
    "dfm=pd.DataFrame(dtm.toarray(), columns=vect.get_feature_names())\n",
    "dfm"
   ]
  },
  {
   "cell_type": "code",
   "execution_count": null,
   "metadata": {},
   "outputs": [],
   "source": [
    "#Fitting the Latent Dirichlet Allocation Model on the Document Term Matrix\n",
    "lda = LatentDirichletAllocation(n_components=5)\n",
    "lda_dtf = lda.fit_transform(dtm)\n",
    "#Latent Dirichlet Allocation Model\n",
    "lda_dtf"
   ]
  },
  {
   "cell_type": "code",
   "execution_count": 7,
   "metadata": {},
   "outputs": [
    {
     "name": "stdout",
     "output_type": "stream",
     "text": [
      "topic 0       topic 1       topic 2       topic 3       topic 4       \n",
      "--------      --------      --------      --------      --------      \n",
      "date          paid          signature     claim         claimant      \n",
      "05            00            yes           suit          type          \n",
      "2021          defense       mcdonald      james         project       \n",
      "13            costs         joseph        mcgoo         joseph        \n",
      "defendants    total         representativetravelers     mcdonald      \n",
      "2020          date          authorized    settlement    spine         \n",
      "proposed      court         producer      number        nm            \n",
      "description   claimant      electronic    individual    albuquerque   \n",
      "laser         alleged       settlement    closed        location      \n",
      "wrongful      description   agency        arrested      services      \n",
      "act           spine         printed       safety        professional  \n",
      "18            injury        demand        supplied      case          \n",
      "14            extent        1000000       isf           events        \n",
      "additional    regions       contact       intergalactic defendents    \n",
      "attempted     sacral        jamey         remedial      cannons       \n",
      "\n",
      "\n"
     ]
    }
   ],
   "source": [
    "# Topic Extracting\n",
    "#Extracting 5 Topics from LDA and the most common words in each topic\n",
    "sorting = np.argsort(lda.components_)[:, ::-1]\n",
    "features = np.array(vect.get_feature_names())\n",
    "\n",
    "mg.tools.print_topics(topics=range(5), feature_names=features, sorting=sorting, topics_per_chunk=5, n_words=15)"
   ]
  },
  {
   "cell_type": "code",
   "execution_count": 8,
   "metadata": {},
   "outputs": [
    {
     "name": "stdout",
     "output_type": "stream",
     "text": [
      "b'Description of the alleged wrongful act': b\"Defendants attempted to disintegrate claimant's spine with high powered laser beams.\".\n",
      "\n",
      "b'Description of the case and events - 1': b'On Wed. 5/13/2020, the defendants utilized extraterrestrial engineered laser'.\n",
      "\n",
      "b'Wrongful act Date': b'05/13/2021'.\n",
      "\n",
      "b'Proposed Expiration Date': b'05/18/2021'.\n",
      "\n",
      "b'Proposed Effective Date': b'05/18/2020'.\n",
      "\n"
     ]
    }
   ],
   "source": [
    "#Sentences within the Topic Model 1\n",
    "topic_0 = np.argsort(lda_dtf[:,0])[::-1]\n",
    "for i in topic_0[:5]:\n",
    "    print(f\".\".join(inps[i].split(f\".\")[:2]) + f\".\\n\")"
   ]
  },
  {
   "cell_type": "code",
   "execution_count": 9,
   "metadata": {},
   "outputs": [
    {
     "name": "stdout",
     "output_type": "stream",
     "text": [
      "b'Description of the type and extent of alleged injury': b\"Claimant's spine was broken in thoracic, lumbar, and sacral regions.\".\n",
      "\n",
      "b\"Insurer's loss reserve\": b'3000000.00'.\n",
      "\n",
      "b'Defense costs paid to date': b'0.00'.\n",
      "\n",
      "b'Total defense costs paid': None.\n",
      "\n",
      "b'Total indemnity paid': None.\n",
      "\n"
     ]
    }
   ],
   "source": [
    "#Senteces within the Topic Model 2\n",
    "topic_1 = np.argsort(lda_dtf[:,1])[::-1]\n",
    "for i in topic_1[:5]:\n",
    "    print(f\".\".join(inps[i].split(f\".\")[:2]) + f\".\\n\")"
   ]
  },
  {
   "cell_type": "code",
   "execution_count": 12,
   "metadata": {},
   "outputs": [
    {
     "name": "stdout",
     "output_type": "stream",
     "text": [
      "b'Electronic Signature - Authorized Representative': /'Yes'.\n",
      "\n",
      "b'Authorized Representative Signature': b'Joseph McDonald'.\n",
      "\n",
      "b'Authorized Representative Name - Printed': b'Joseph McDonald'.\n",
      "\n",
      "b\"Claimant's settlement demand\": b'1000000.00'.\n",
      "\n",
      "b'Electronic Signature - Producer': /'Yes'.\n",
      "\n"
     ]
    }
   ],
   "source": [
    "#Senteces within the Topic Model 3\n",
    "topic_2 = np.argsort(lda_dtf[:,2])[::-1]\n",
    "for i in topic_2[:5]:\n",
    "    print(f\".\".join(inps[i].split(f\".\")[:2]) + f\".\\n\")"
   ]
  },
  {
   "cell_type": "code",
   "execution_count": 13,
   "metadata": {},
   "outputs": [
    {
     "name": "stdout",
     "output_type": "stream",
     "text": [
      "b'Description of Remedial measures': b'Defendents and extraterrestrials who supplied laser cannons have been arrested by the Intergalactic Safety Force (ISF).'.\n",
      "\n",
      "b'Name of individual - 2': b'Sally James Temple, Mark McGoo, James McGoo, Matt McGee'.\n",
      "\n",
      "b'Travelers Policy Number': b'6JUB-1E112'.\n",
      "\n",
      "b\"Defendant's offer for settlement\": b'7000000'.\n",
      "\n",
      "b'State Producer License No': b'625864115'.\n",
      "\n"
     ]
    }
   ],
   "source": [
    "#Senteces within the Topic Model 4\n",
    "topic_3 = np.argsort(lda_dtf[:,3])[::-1]\n",
    "for i in topic_3[:5]:\n",
    "    print(f\".\".join(inps[i].split(f\".\")[:2]) + f\".\\n\")"
   ]
  },
  {
   "cell_type": "code",
   "execution_count": 14,
   "metadata": {},
   "outputs": [
    {
     "name": "stdout",
     "output_type": "stream",
     "text": [
      "b'Description of the case and events - 2': b\"beam cannons to attack claimant's spine. Claimant defended self and teleported defendents to Topeka, KS.\n",
      "\n",
      "b'Name , type and location of project - 1': b'The Great Project, building construction, Albuquerque, NM'.\n",
      "\n",
      "b'Type of professional services - 2': b'Spine adjustment, Albuquerque, NM'.\n",
      "\n",
      "b'Name of Individual - 1': b'Joseph McDonald, Frank McDugle, '.\n",
      "\n",
      "b'Proposed Named Insured': b'Joseph McDonald'.\n",
      "\n"
     ]
    }
   ],
   "source": [
    "#Senteces within the Topic Model 5\n",
    "topic_4 = np.argsort(lda_dtf[:,4])[::-1]\n",
    "for i in topic_4[:5]:\n",
    "    print(f\".\".join(inps[i].split(f\".\")[:2]) + f\".\\n\")"
   ]
  },
  {
   "cell_type": "code",
   "execution_count": 15,
   "metadata": {},
   "outputs": [
    {
     "data": {
      "text/html": [
       "\n",
       "<link rel=\"stylesheet\" type=\"text/css\" href=\"https://cdn.rawgit.com/bmabey/pyLDAvis/files/ldavis.v1.0.0.css\">\n",
       "\n",
       "\n",
       "<div id=\"ldavis_el6822824416515844564371446132\"></div>\n",
       "<script type=\"text/javascript\">\n",
       "\n",
       "var ldavis_el6822824416515844564371446132_data = {\"mdsDat\": {\"x\": [0.1849884316823796, -0.05103244987325693, -0.06384068576861299, -0.10054696771158313, 0.030431671671073274], \"y\": [-0.024460383574422227, 0.13090710322328963, -0.13934338375835978, -0.00999033527557411, 0.042886999385066626], \"topics\": [1, 2, 3, 4, 5], \"cluster\": [1, 1, 1, 1, 1], \"Freq\": [27.22780343871769, 21.656051917030876, 20.715633674652807, 15.472078886398217, 14.928432083200407]}, \"tinfo\": {\"Term\": [\"05\", \"date\", \"paid\", \"signature\", \"mcdonald\", \"joseph\", \"suit\", \"claim\", \"2021\", \"authorized\", \"representative\", \"type\", \"yes\", \"13\", \"project\", \"00\", \"defense\", \"costs\", \"total\", \"electronic\", \"claimant\", \"producer\", \"james\", \"defendants\", \"2020\", \"mcgoo\", \"travelers\", \"nm\", \"albuquerque\", \"location\", \"05\", \"2021\", \"13\", \"date\", \"defendants\", \"2020\", \"act\", \"wrongful\", \"18\", \"14\", \"additional\", \"attempted\", \"disintegrate\", \"high\", \"beams\", \"powered\", \"engineered\", \"extraterrestrial\", \"utilized\", \"wed\", \"effective\", \"expiration\", \"6078658694\", \"phone\", \"information\", \"laser\", \"proposed\", \"alleged\", \"court\", \"number\", \"description\", \"case\", \"events\", \"project\", \"albuquerque\", \"nm\", \"location\", \"services\", \"professional\", \"type\", \"topeka\", \"beam\", \"ks\", \"teleported\", \"defended\", \"attack\", \"self\", \"building\", \"construction\", \"great\", \"adjustment\", \"frank\", \"mcdugle\", \"insured\", \"named\", \"carrier\", \"deductible\", \"claimant\", \"joseph\", \"mcdonald\", \"spine\", \"defendents\", \"cannons\", \"events\", \"case\", \"claim\", \"suit\", \"mcgoo\", \"travelers\", \"extraterrestrials\", \"force\", \"measures\", \"intergalactic\", \"remedial\", \"arrested\", \"isf\", \"safety\", \"supplied\", \"mark\", \"temple\", \"matt\", \"mcgee\", \"sally\", \"policy\", \"6jub\", \"1e112\", \"offer\", \"defendant\", \"7000000\", \"625864115\", \"license\", \"state\", \"pending\", \"insurance\", \"james\", \"settlement\", \"number\", \"individual\", \"closed\", \"cannons\", \"defendents\", \"signature\", \"representative\", \"authorized\", \"electronic\", \"yes\", \"printed\", \"demand\", \"1000000\", \"contact\", \"jamey\", \"cb10\", \"payment\", \"cb5\", \"incident\", \"producer\", \"mcdonald\", \"joseph\", \"closed\", \"00\", \"james\", \"settlement\", \"agency\", \"claimant\", \"judgement\", \"indemnity\", \"reserve\", \"insurer\", \"loss\", \"3000000\", \"thoracic\", \"today\", \"15\", \"deductible\", \"carrier\", \"court\", \"information\", \"additional\", \"number\", \"paid\", \"defense\", \"costs\", \"total\", \"lumbar\", \"sacral\", \"extent\", \"regions\", \"injury\", \"thoracic\", \"broken\", \"insurer\", \"reserve\", \"loss\", \"3000000\", \"indemnity\", \"judgement\", \"today\", \"15\", \"00\", \"court\", \"alleged\", \"spine\", \"type\", \"description\", \"claimant\", \"date\", \"incident\", \"cb5\", \"payment\", \"deductible\", \"2020\", \"05\"], \"Freq\": [5.0, 6.0, 3.0, 2.0, 4.0, 4.0, 3.0, 3.0, 4.0, 2.0, 2.0, 3.0, 3.0, 3.0, 2.0, 2.0, 1.0, 1.0, 1.0, 1.0, 5.0, 2.0, 2.0, 2.0, 2.0, 1.0, 1.0, 1.0, 1.0, 1.0, 5.018594307694936, 3.6247412631095934, 2.9261220026495245, 5.643659408464384, 2.2308671985558037, 2.2293679172278713, 1.5337253242464282, 1.5337253242464282, 1.5337199985869592, 1.5337093085237128, 1.5336739793170724, 0.8365746318846983, 0.8365746318846983, 0.8365746318846983, 0.8365746318846983, 0.8365746318846983, 0.8365730584668931, 0.8365730584668931, 0.8365730584668931, 0.8365730584668931, 0.8365624438088173, 0.836562443329331, 0.8365487366201516, 0.8365487366201516, 0.8365094695211341, 1.5339311153283426, 1.5345908809939364, 0.8363105156713204, 0.8341193191351157, 0.8358559358617276, 1.5340991988470147, 0.8363726663142679, 0.8363726663142679, 2.1299603373323337, 1.4643475849468577, 1.4643475849468577, 1.4643380251589277, 1.4643364972776873, 1.4643364972776873, 2.795912485826165, 0.7987343731340212, 0.7987343731340212, 0.7987343731340212, 0.7987343731340212, 0.7987343731340212, 0.7987343731340212, 0.7987343731340212, 0.7987298220088986, 0.7987298220088986, 0.7987298220088986, 0.7987263091230532, 0.7987194392017207, 0.7987194392017207, 0.7987193524065039, 0.7987193524065039, 0.7986073327857794, 0.7902763174110456, 2.7974131974399583, 2.128264113489985, 2.1282641134899656, 1.4650538104050868, 0.798754171044235, 0.798754171044235, 0.7989296792551537, 0.7989296792551537, 2.776418729714691, 2.776418729714691, 1.4556347595276922, 1.4556189054733577, 0.7939796472856483, 0.7939796472856483, 0.7939796472856483, 0.7939796472856483, 0.7939796472856483, 0.7939796472856483, 0.7939796472856483, 0.7939796472856483, 0.7939796472856483, 0.7939774157627043, 0.7939774157627043, 0.7939774157627043, 0.7939774157627043, 0.7939774157627043, 0.793967009078391, 0.793967009078391, 0.793967009078391, 0.7939611923091029, 0.7939611923091029, 0.7939611923091029, 0.793960787482713, 0.793960787482713, 0.793960787482713, 0.7939601337399647, 0.7939513389621176, 1.457242509522096, 0.7954565549542592, 0.7946368846407023, 0.7944058762410605, 0.7941639915708872, 0.7939633696671816, 0.7939633696671816, 2.4615552288289, 1.875468782106383, 1.875468782106383, 1.2893788145083083, 1.8788996120952914, 0.7032899462657413, 0.7032896819531422, 0.7032896819531422, 0.7032863862122224, 0.7032863862122224, 0.7032658393674529, 0.7032652163648849, 0.7032148500119968, 0.7032148500042836, 1.291238585400072, 1.8769649976701293, 1.876964997670113, 0.7030970292768892, 0.702082348072169, 0.7018695066193065, 0.7062576807249279, 0.7046321934487249, 0.7012767612137898, 0.11722843649510889, 0.11722444682640229, 0.1172215730630931, 0.1172215730630931, 0.1172215730630931, 0.1172215730630931, 0.11721916671080974, 0.11722787102760746, 0.11722787102760746, 0.11725112609429743, 0.11725050619453119, 0.11724808350367803, 0.11723473589776898, 0.11723248128303945, 0.11723101826232164, 2.5275784452289516, 1.3242935731056251, 1.3242935731056251, 1.3242895257037688, 0.7223436801475351, 0.7223436801475351, 0.7223436801475351, 0.7223436801475351, 0.7223436801475351, 0.7223436801475351, 0.7223436801475351, 0.7223357749316079, 0.7223357749316079, 0.7223357749316079, 0.7223357749316079, 0.7223258480000373, 0.7223118341607393, 0.717852171794147, 0.717852171794147, 1.3255439735996584, 0.7243980056912042, 0.7225755933489527, 0.7224424492356136, 0.7220449539808588, 0.7224779757293153, 0.7235417259446533, 0.7846078251733372, 0.1204207509931169, 0.12042075098815883, 0.1204042589540175, 0.12796025749067066, 0.12169522310304429, 0.12090467764567872], \"Total\": [5.0, 6.0, 3.0, 2.0, 4.0, 4.0, 3.0, 3.0, 4.0, 2.0, 2.0, 3.0, 3.0, 3.0, 2.0, 2.0, 1.0, 1.0, 1.0, 1.0, 5.0, 2.0, 2.0, 2.0, 2.0, 1.0, 1.0, 1.0, 1.0, 1.0, 5.522478251735069, 4.128242703486238, 3.43101328916368, 6.811795869696497, 2.73395560353536, 2.7337507485761936, 2.036802368161899, 2.036802368161899, 2.0368018167047817, 2.0368007073648213, 2.0367970566496942, 1.339648227247647, 1.339648227247647, 1.339648227247647, 1.339648227247647, 1.339648227247647, 1.3396480630816607, 1.3396480630816607, 1.3396480630816607, 1.3396480630816607, 1.339646961573624, 1.3396469615752418, 1.3396455552980526, 1.3396455552980526, 1.3396414819892477, 2.6984687110163694, 2.70245759569164, 1.941570261642462, 1.9412746595327923, 2.001265168954025, 3.9660391220441356, 2.005256344892242, 2.005256344892242, 2.6393472403962295, 1.9737297318844778, 1.9737297318844778, 1.9737292107844415, 1.9737291275802966, 1.9737291275802966, 3.906955276334454, 1.3081122030681498, 1.3081122030681498, 1.3081122030681498, 1.3081122030681498, 1.3081122030681498, 1.3081122030681498, 1.3081122030681498, 1.3081119503039216, 1.3081119503039216, 1.3081119503039216, 1.3081117590196047, 1.3081113645492342, 1.3081113645492342, 1.3081113760894616, 1.3081113760894616, 1.3081052980081949, 1.3073086202208017, 5.190274860516073, 4.39740917442962, 4.397409174429616, 3.2727936026293523, 1.969768009943885, 1.969768009943885, 2.005256344892242, 2.005256344892242, 3.2892515342698347, 3.2892515342698347, 1.9658064943430646, 1.9658057365990167, 1.3041504927252892, 1.3041504927252892, 1.3041504927252892, 1.3041504927252892, 1.3041504927252892, 1.3041504927252892, 1.3041504927252892, 1.3041504927252892, 1.3041504927252892, 1.3041503775818377, 1.3041503775818377, 1.3041503775818377, 1.3041503775818377, 1.3041503775818377, 1.304149891377062, 1.304149891377062, 1.304149891377062, 1.3041495972677417, 1.3041495972677417, 1.3041495972677417, 1.3041495279657211, 1.3041495279657211, 1.3041495279657211, 1.3041494540917957, 1.3041491200209656, 2.5520793080278366, 2.586748202460013, 2.001265168954025, 1.9697644148208853, 1.8902641789005332, 1.969768009943885, 1.969768009943885, 2.98684722626104, 2.400759342475829, 2.400759342475829, 1.8146718470309353, 3.0619724937753996, 1.2285842512911185, 1.2285842368124105, 1.2285842368124105, 1.2285846413806496, 1.2285846413806496, 1.228586899794214, 1.2285869788566623, 1.2285925348514424, 1.2285925348520113, 2.4760876819135644, 4.397409174429616, 4.39740917442962, 1.8902641789005332, 2.4325336365886594, 2.5520793080278366, 2.586748202460013, 2.587164293520795, 5.190274860516073, 1.2444554874569425, 1.2444544044973629, 1.244453655354155, 1.244453655354155, 1.244453655354155, 1.244453655354155, 1.2444530754244778, 1.2451609219880952, 1.2451609219880952, 1.3073086202208017, 1.3081052980081949, 1.9412746595327923, 1.3396414819892477, 2.0367970566496942, 2.001265168954025, 3.050393473058611, 1.8464115273293078, 1.8464115273293078, 1.846411811365499, 1.2444530754244778, 1.2444530754244778, 1.2444530754244778, 1.2444530754244778, 1.2444530754244778, 1.2444530754244778, 1.2444530754244778, 1.244453655354155, 1.244453655354155, 1.244453655354155, 1.244453655354155, 1.2444544044973629, 1.2444554874569425, 1.2451609219880952, 1.2451609219880952, 2.4325336365886594, 1.9412746595327923, 1.941570261642462, 3.2727936026293523, 3.906955276334454, 3.9660391220441356, 5.190274860516073, 6.811795869696497, 1.2285925348520113, 1.2285925348514424, 1.2285869788566623, 1.3073086202208017, 2.7337507485761936, 5.522478251735069], \"Category\": [\"Default\", \"Default\", \"Default\", \"Default\", \"Default\", \"Default\", \"Default\", \"Default\", \"Default\", \"Default\", \"Default\", \"Default\", \"Default\", \"Default\", \"Default\", \"Default\", \"Default\", \"Default\", \"Default\", \"Default\", \"Default\", \"Default\", \"Default\", \"Default\", \"Default\", \"Default\", \"Default\", \"Default\", \"Default\", \"Default\", \"Topic1\", \"Topic1\", \"Topic1\", \"Topic1\", \"Topic1\", \"Topic1\", \"Topic1\", \"Topic1\", \"Topic1\", \"Topic1\", \"Topic1\", \"Topic1\", \"Topic1\", \"Topic1\", \"Topic1\", \"Topic1\", \"Topic1\", \"Topic1\", \"Topic1\", \"Topic1\", \"Topic1\", \"Topic1\", \"Topic1\", \"Topic1\", \"Topic1\", \"Topic1\", \"Topic1\", \"Topic1\", \"Topic1\", \"Topic1\", \"Topic1\", \"Topic1\", \"Topic1\", \"Topic2\", \"Topic2\", \"Topic2\", \"Topic2\", \"Topic2\", \"Topic2\", \"Topic2\", \"Topic2\", \"Topic2\", \"Topic2\", \"Topic2\", \"Topic2\", \"Topic2\", \"Topic2\", \"Topic2\", \"Topic2\", \"Topic2\", \"Topic2\", \"Topic2\", \"Topic2\", \"Topic2\", \"Topic2\", \"Topic2\", \"Topic2\", \"Topic2\", \"Topic2\", \"Topic2\", \"Topic2\", \"Topic2\", \"Topic2\", \"Topic2\", \"Topic2\", \"Topic3\", \"Topic3\", \"Topic3\", \"Topic3\", \"Topic3\", \"Topic3\", \"Topic3\", \"Topic3\", \"Topic3\", \"Topic3\", \"Topic3\", \"Topic3\", \"Topic3\", \"Topic3\", \"Topic3\", \"Topic3\", \"Topic3\", \"Topic3\", \"Topic3\", \"Topic3\", \"Topic3\", \"Topic3\", \"Topic3\", \"Topic3\", \"Topic3\", \"Topic3\", \"Topic3\", \"Topic3\", \"Topic3\", \"Topic3\", \"Topic3\", \"Topic3\", \"Topic3\", \"Topic3\", \"Topic3\", \"Topic3\", \"Topic4\", \"Topic4\", \"Topic4\", \"Topic4\", \"Topic4\", \"Topic4\", \"Topic4\", \"Topic4\", \"Topic4\", \"Topic4\", \"Topic4\", \"Topic4\", \"Topic4\", \"Topic4\", \"Topic4\", \"Topic4\", \"Topic4\", \"Topic4\", \"Topic4\", \"Topic4\", \"Topic4\", \"Topic4\", \"Topic4\", \"Topic4\", \"Topic4\", \"Topic4\", \"Topic4\", \"Topic4\", \"Topic4\", \"Topic4\", \"Topic4\", \"Topic4\", \"Topic4\", \"Topic4\", \"Topic4\", \"Topic4\", \"Topic4\", \"Topic4\", \"Topic5\", \"Topic5\", \"Topic5\", \"Topic5\", \"Topic5\", \"Topic5\", \"Topic5\", \"Topic5\", \"Topic5\", \"Topic5\", \"Topic5\", \"Topic5\", \"Topic5\", \"Topic5\", \"Topic5\", \"Topic5\", \"Topic5\", \"Topic5\", \"Topic5\", \"Topic5\", \"Topic5\", \"Topic5\", \"Topic5\", \"Topic5\", \"Topic5\", \"Topic5\", \"Topic5\", \"Topic5\", \"Topic5\", \"Topic5\", \"Topic5\", \"Topic5\", \"Topic5\"], \"logprob\": [30.0, 29.0, 28.0, 27.0, 26.0, 25.0, 24.0, 23.0, 22.0, 21.0, 20.0, 19.0, 18.0, 17.0, 16.0, 15.0, 14.0, 13.0, 12.0, 11.0, 10.0, 9.0, 8.0, 7.0, 6.0, 5.0, 4.0, 3.0, 2.0, 1.0, -2.5831, -2.9085, -3.1226, -2.4657, -3.3938, -3.3945, -3.7685, -3.7685, -3.7685, -3.7685, -3.7686, -4.3747, -4.3747, -4.3747, -4.3747, -4.3747, -4.3747, -4.3747, -4.3747, -4.3747, -4.3747, -4.3747, -4.3747, -4.3747, -4.3748, -3.7684, -3.768, -4.375, -4.3776, -4.3755, -3.7683, -4.3749, -4.3749, -3.2112, -3.5859, -3.5859, -3.5859, -3.5859, -3.5859, -2.9391, -4.192, -4.192, -4.192, -4.192, -4.192, -4.192, -4.192, -4.192, -4.192, -4.192, -4.192, -4.192, -4.192, -4.192, -4.192, -4.1922, -4.2027, -2.9386, -3.212, -3.212, -3.5854, -4.192, -4.192, -4.1918, -4.1918, -2.9017, -2.9017, -3.5474, -3.5475, -4.1536, -4.1536, -4.1536, -4.1536, -4.1536, -4.1536, -4.1536, -4.1536, -4.1536, -4.1536, -4.1536, -4.1536, -4.1536, -4.1536, -4.1536, -4.1536, -4.1536, -4.1536, -4.1536, -4.1536, -4.1536, -4.1536, -4.1536, -4.1536, -4.1536, -3.5463, -4.1517, -4.1528, -4.153, -4.1534, -4.1536, -4.1536, -2.7302, -3.0022, -3.0022, -3.3769, -3.0003, -3.983, -3.983, -3.983, -3.983, -3.983, -3.9831, -3.9831, -3.9831, -3.9831, -3.3754, -3.0014, -3.0014, -3.9833, -3.9847, -3.985, -3.9788, -3.9811, -3.9859, -5.7747, -5.7747, -5.7747, -5.7747, -5.7747, -5.7747, -5.7747, -5.7747, -5.7747, -5.7745, -5.7745, -5.7745, -5.7746, -5.7746, -5.7746, -2.668, -3.3144, -3.3144, -3.3144, -3.9205, -3.9205, -3.9205, -3.9205, -3.9205, -3.9205, -3.9205, -3.9205, -3.9205, -3.9205, -3.9205, -3.9205, -3.9206, -3.9268, -3.9268, -3.3134, -3.9177, -3.9202, -3.9204, -3.9209, -3.9203, -3.9189, -3.8378, -5.712, -5.712, -5.7122, -5.6513, -5.7015, -5.708], \"loglift\": [30.0, 29.0, 28.0, 27.0, 26.0, 25.0, 24.0, 23.0, 22.0, 21.0, 20.0, 19.0, 18.0, 17.0, 16.0, 15.0, 14.0, 13.0, 12.0, 11.0, 10.0, 9.0, 8.0, 7.0, 6.0, 5.0, 4.0, 3.0, 2.0, 1.0, 1.2053, 1.1709, 1.1418, 1.1128, 1.0976, 1.097, 1.0173, 1.0173, 1.0172, 1.0172, 1.0172, 0.8301, 0.8301, 0.8301, 0.8301, 0.8301, 0.8301, 0.8301, 0.8301, 0.8301, 0.8301, 0.8301, 0.8301, 0.8301, 0.83, 0.7361, 0.735, 0.4587, 0.4562, 0.4279, 0.3511, 0.4265, 0.4265, 1.3155, 1.2314, 1.2314, 1.2314, 1.2314, 1.2314, 1.1953, 1.0366, 1.0366, 1.0366, 1.0366, 1.0366, 1.0366, 1.0366, 1.0366, 1.0366, 1.0366, 1.0366, 1.0366, 1.0366, 1.0366, 1.0366, 1.0364, 1.0265, 0.9118, 0.8042, 0.8042, 0.7261, 0.6273, 0.6273, 0.6096, 0.6096, 1.4048, 1.4048, 1.2738, 1.2738, 1.078, 1.078, 1.078, 1.078, 1.078, 1.078, 1.078, 1.078, 1.078, 1.078, 1.078, 1.078, 1.078, 1.078, 1.078, 1.078, 1.078, 1.078, 1.078, 1.078, 1.078, 1.078, 1.078, 1.078, 1.078, 1.0139, 0.395, 0.6506, 0.6662, 0.7071, 0.6656, 0.6656, 1.6727, 1.6192, 1.6192, 1.5244, 1.3778, 1.3083, 1.3083, 1.3083, 1.3083, 1.3083, 1.3082, 1.3082, 1.3082, 1.3082, 1.2151, 1.0148, 1.0148, 0.8772, 0.6235, 0.5752, 0.568, 0.5655, -0.1355, -0.4962, -0.4962, -0.4963, -0.4963, -0.4963, -0.4963, -0.4963, -0.4968, -0.4968, -0.5453, -0.5459, -0.9407, -0.5698, -0.9888, -0.9713, 1.7139, 1.5695, 1.5695, 1.5695, 1.358, 1.358, 1.358, 1.358, 1.358, 1.358, 1.358, 1.3579, 1.3579, 1.3579, 1.3579, 1.3579, 1.3579, 1.3511, 1.3511, 1.2948, 0.9161, 0.9135, 0.3911, 0.2135, 0.1991, -0.0685, -0.2593, -0.4207, -0.4207, -0.4209, -0.4221, -1.21, -1.9197]}, \"token.table\": {\"Topic\": [4, 5, 1, 4, 1, 1, 5, 1, 3, 1, 1, 5, 1, 3, 3, 3, 1, 1, 2, 1, 3, 4, 2, 1, 5, 3, 2, 1, 4, 2, 1, 5, 2, 2, 3, 2, 1, 2, 4, 4, 3, 1, 2, 4, 5, 3, 4, 2, 4, 5, 1, 5, 1, 5, 2, 3, 1, 2, 2, 3, 5, 4, 1, 2, 3, 5, 1, 1, 4, 1, 1, 2, 1, 5, 1, 3, 3, 2, 2, 1, 4, 5, 2, 3, 1, 5, 3, 2, 5, 3, 3, 3, 4, 4, 2, 4, 5, 2, 1, 3, 3, 2, 5, 5, 3, 3, 2, 4, 2, 3, 3, 3, 2, 2, 1, 3, 3, 5, 4, 3, 1, 3, 1, 4, 3, 4, 2, 2, 1, 2, 5, 3, 4, 5, 5, 3, 3, 2, 2, 1, 3, 4, 4, 1, 2, 5, 3, 3, 3, 2, 3, 5, 5, 2, 5, 3, 2, 5, 1, 1, 1, 3, 4], \"Freq\": [0.41109400707090804, 0.41109400707090804, 0.9053906185015912, 0.8139450027411409, 0.8743772603490145, 0.9819321020305254, 0.8031090458599863, 0.9819315672232063, 0.7667830259481081, 0.7315955929931252, 0.9689352800459287, 0.8035654808819805, 0.7464661051911704, 0.7667832396181218, 0.7667830259481081, 0.766783198871548, 0.9819313013686688, 0.9819338620263811, 0.7644606763182632, 0.3865235781524836, 0.3865235781524836, 0.3865235781524836, 0.5066549810977514, 0.5150470316505852, 0.5150470316505852, 0.7667826723818472, 0.7644604168163258, 0.7464646163527078, 0.8330697561453461, 0.7644604168163258, 0.7464646163527078, 0.8035658553528859, 0.7644605645317007, 0.5076739976239578, 0.5076739976239578, 0.7644644521527925, 0.4986893583691604, 0.4986893583691604, 0.8139432385022973, 0.8139395052737456, 0.9120615947864734, 0.19266802373170835, 0.5780040711951251, 0.19266802373170835, 0.19266802373170835, 0.5290265832480872, 0.5290265832480872, 0.7644605645317007, 0.8139447347121542, 0.5415910728451869, 0.5151254589809927, 0.5151254589809927, 0.8808249857709451, 0.14680416429515752, 0.7649303190788278, 0.766783198871548, 0.7315407746247745, 0.7644604168163258, 0.5076739976239578, 0.5076739976239578, 0.5415910728451869, 0.8139450027411409, 0.5042814602820106, 0.2521407301410053, 0.2521407301410053, 0.2521407301410053, 0.7464646163527078, 0.7464653215988668, 0.5510638199606965, 0.7464647078275536, 0.4986893583691604, 0.4986893583691604, 0.7464653215979654, 0.8035658553528859, 0.7464647078275536, 0.7667826723818472, 0.7667826723818472, 0.7644609068468669, 0.7644605645317007, 0.7464646163527078, 0.8139395052733687, 0.8035649971474058, 0.5076749242070819, 0.5076749242070819, 0.7464683748931763, 0.8035658553528859, 0.7667834794719824, 0.7644609001027525, 0.8035654808819805, 0.7667826723818472, 0.7667826723818472, 0.3918373527242644, 0.3918373527242644, 0.8139447347121542, 0.4548132595051077, 0.4548132595051077, 0.8035642978629234, 0.7644604168163258, 0.7411610858540236, 0.3705805429270118, 0.7667832396181218, 0.5066551148637856, 0.8035654808819805, 0.8035658553528859, 0.7667827400810979, 0.7667827400810979, 0.45481325950510804, 0.45481325950510804, 0.7644609068468669, 0.7667827400810979, 0.5086970680367913, 0.7667826723818472, 0.7644609001027525, 0.5066549810977514, 0.4996839077165655, 0.4996839077165655, 0.766783198871548, 0.9834796810628886, 0.8139431861231444, 0.7667832830527817, 0.7464661051911704, 0.7667830259481081, 0.7464646163527078, 0.8139449931489033, 0.40386291943715913, 0.40386291943715913, 0.506655136222241, 0.7577631201341101, 0.7400671163863868, 0.3700335581931934, 0.8035658553528859, 0.7667826723818472, 0.8330697561453461, 0.8035654808819805, 0.8035658553528859, 0.7667826723818472, 0.7667827400810979, 0.7644604168163258, 0.506655136222241, 0.38658575235463355, 0.38658575235463355, 0.38658575235463355, 0.6696023761830017, 0.3055493628429862, 0.3055493628429862, 0.3055493628429862, 0.7667832396181218, 0.9120615947864734, 0.7667826723818472, 0.7644604168163258, 0.7667827400810979, 0.8035658553528859, 0.8031090458599863, 0.7644604168163258, 0.5415909895314512, 0.5086972641203453, 0.7678613620616183, 0.25595378735387275, 0.7464647078275536, 0.7464647078275536, 0.9819313013686688, 0.32658686583007285, 0.6531737316601457], \"Term\": [\"00\", \"00\", \"05\", \"1000000\", \"13\", \"14\", \"15\", \"18\", \"1e112\", \"2020\", \"2021\", \"3000000\", \"6078658694\", \"625864115\", \"6jub\", \"7000000\", \"act\", \"additional\", \"adjustment\", \"agency\", \"agency\", \"agency\", \"albuquerque\", \"alleged\", \"alleged\", \"arrested\", \"attack\", \"attempted\", \"authorized\", \"beam\", \"beams\", \"broken\", \"building\", \"cannons\", \"cannons\", \"carrier\", \"case\", \"case\", \"cb10\", \"cb5\", \"claim\", \"claimant\", \"claimant\", \"claimant\", \"claimant\", \"closed\", \"closed\", \"construction\", \"contact\", \"costs\", \"court\", \"court\", \"date\", \"date\", \"deductible\", \"defendant\", \"defendants\", \"defended\", \"defendents\", \"defendents\", \"defense\", \"demand\", \"description\", \"description\", \"description\", \"description\", \"disintegrate\", \"effective\", \"electronic\", \"engineered\", \"events\", \"events\", \"expiration\", \"extent\", \"extraterrestrial\", \"extraterrestrials\", \"force\", \"frank\", \"great\", \"high\", \"incident\", \"indemnity\", \"individual\", \"individual\", \"information\", \"injury\", \"insurance\", \"insured\", \"insurer\", \"intergalactic\", \"isf\", \"james\", \"james\", \"jamey\", \"joseph\", \"joseph\", \"judgement\", \"ks\", \"laser\", \"laser\", \"license\", \"location\", \"loss\", \"lumbar\", \"mark\", \"matt\", \"mcdonald\", \"mcdonald\", \"mcdugle\", \"mcgee\", \"mcgoo\", \"measures\", \"named\", \"nm\", \"number\", \"number\", \"offer\", \"paid\", \"payment\", \"pending\", \"phone\", \"policy\", \"powered\", \"printed\", \"producer\", \"producer\", \"professional\", \"project\", \"proposed\", \"proposed\", \"regions\", \"remedial\", \"representative\", \"reserve\", \"sacral\", \"safety\", \"sally\", \"self\", \"services\", \"settlement\", \"settlement\", \"settlement\", \"signature\", \"spine\", \"spine\", \"spine\", \"state\", \"suit\", \"supplied\", \"teleported\", \"temple\", \"thoracic\", \"today\", \"topeka\", \"total\", \"travelers\", \"type\", \"type\", \"utilized\", \"wed\", \"wrongful\", \"yes\", \"yes\"]}, \"R\": 30, \"lambda.step\": 0.01, \"plot.opts\": {\"xlab\": \"PC1\", \"ylab\": \"PC2\"}, \"topic.order\": [1, 5, 4, 3, 2]};\n",
       "\n",
       "function LDAvis_load_lib(url, callback){\n",
       "  var s = document.createElement('script');\n",
       "  s.src = url;\n",
       "  s.async = true;\n",
       "  s.onreadystatechange = s.onload = callback;\n",
       "  s.onerror = function(){console.warn(\"failed to load library \" + url);};\n",
       "  document.getElementsByTagName(\"head\")[0].appendChild(s);\n",
       "}\n",
       "\n",
       "if(typeof(LDAvis) !== \"undefined\"){\n",
       "   // already loaded: just create the visualization\n",
       "   !function(LDAvis){\n",
       "       new LDAvis(\"#\" + \"ldavis_el6822824416515844564371446132\", ldavis_el6822824416515844564371446132_data);\n",
       "   }(LDAvis);\n",
       "}else if(typeof define === \"function\" && define.amd){\n",
       "   // require.js is available: use it to load d3/LDAvis\n",
       "   require.config({paths: {d3: \"https://cdnjs.cloudflare.com/ajax/libs/d3/3.5.5/d3.min\"}});\n",
       "   require([\"d3\"], function(d3){\n",
       "      window.d3 = d3;\n",
       "      LDAvis_load_lib(\"https://cdn.rawgit.com/bmabey/pyLDAvis/files/ldavis.v1.0.0.js\", function(){\n",
       "        new LDAvis(\"#\" + \"ldavis_el6822824416515844564371446132\", ldavis_el6822824416515844564371446132_data);\n",
       "      });\n",
       "    });\n",
       "}else{\n",
       "    // require.js not available: dynamically load d3 & LDAvis\n",
       "    LDAvis_load_lib(\"https://cdnjs.cloudflare.com/ajax/libs/d3/3.5.5/d3.min.js\", function(){\n",
       "         LDAvis_load_lib(\"https://cdn.rawgit.com/bmabey/pyLDAvis/files/ldavis.v1.0.0.js\", function(){\n",
       "                 new LDAvis(\"#\" + \"ldavis_el6822824416515844564371446132\", ldavis_el6822824416515844564371446132_data);\n",
       "            })\n",
       "         });\n",
       "}\n",
       "</script>"
      ],
      "text/plain": [
       "<IPython.core.display.HTML object>"
      ]
     },
     "execution_count": 15,
     "metadata": {},
     "output_type": "execute_result"
    }
   ],
   "source": [
    "# Topic Visualiization\n",
    "zit=pyLDAvis.sklearn.prepare(lda,dtm,vect)\n",
    "\n",
    "pyLDAvis.display(zit)"
   ]
  },
  {
   "cell_type": "code",
   "execution_count": null,
   "metadata": {},
   "outputs": [],
   "source": []
  }
 ],
 "metadata": {
  "kernelspec": {
   "display_name": "Python 3",
   "language": "python",
   "name": "python3"
  },
  "language_info": {
   "codemirror_mode": {
    "name": "ipython",
    "version": 3
   },
   "file_extension": ".py",
   "mimetype": "text/x-python",
   "name": "python",
   "nbconvert_exporter": "python",
   "pygments_lexer": "ipython3",
   "version": "3.7.6"
  }
 },
 "nbformat": 4,
 "nbformat_minor": 4
}
